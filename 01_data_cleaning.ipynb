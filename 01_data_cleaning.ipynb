{
 "cells": [
  {
   "cell_type": "code",
   "execution_count": 1,
   "id": "e193098b",
   "metadata": {},
   "outputs": [],
   "source": [
    "import geopandas as gpd\n",
    "import pandas as pd\n",
    "import datetime"
   ]
  },
  {
   "cell_type": "code",
   "execution_count": 2,
   "id": "55c53ae5",
   "metadata": {},
   "outputs": [],
   "source": [
    "incendis_86_20 = gpd.read_file(\"dades/incendis_86_20.geojson\")"
   ]
  },
  {
   "cell_type": "code",
   "execution_count": 3,
   "id": "b04d7387",
   "metadata": {},
   "outputs": [
    {
     "data": {
      "text/plain": [
       "1320"
      ]
     },
     "execution_count": 3,
     "metadata": {},
     "output_type": "execute_result"
    }
   ],
   "source": [
    "# Comprovo si hi han duplicats\n",
    "incendis_86_20.geometry.duplicated().sum()"
   ]
  },
  {
   "cell_type": "code",
   "execution_count": 4,
   "id": "8d675303",
   "metadata": {},
   "outputs": [],
   "source": [
    "incendis_86_20.drop_duplicates(subset=['geometry'], inplace=True)"
   ]
  },
  {
   "cell_type": "code",
   "execution_count": 5,
   "id": "bc958ba1",
   "metadata": {},
   "outputs": [
    {
     "data": {
      "text/html": [
       "<div>\n",
       "<style scoped>\n",
       "    .dataframe tbody tr th:only-of-type {\n",
       "        vertical-align: middle;\n",
       "    }\n",
       "\n",
       "    .dataframe tbody tr th {\n",
       "        vertical-align: top;\n",
       "    }\n",
       "\n",
       "    .dataframe thead th {\n",
       "        text-align: right;\n",
       "    }\n",
       "</style>\n",
       "<table border=\"1\" class=\"dataframe\">\n",
       "  <thead>\n",
       "    <tr style=\"text-align: right;\">\n",
       "      <th></th>\n",
       "      <th>GRID_CODE</th>\n",
       "      <th>CODI_FINAL</th>\n",
       "      <th>MUNICIPI</th>\n",
       "      <th>DATA_INCEN</th>\n",
       "      <th>OBJECTID</th>\n",
       "      <th>layer</th>\n",
       "      <th>path</th>\n",
       "      <th>hectaries</th>\n",
       "      <th>geometry</th>\n",
       "    </tr>\n",
       "  </thead>\n",
       "  <tbody>\n",
       "    <tr>\n",
       "      <th>150</th>\n",
       "      <td>0</td>\n",
       "      <td>None</td>\n",
       "      <td>None</td>\n",
       "      <td>None</td>\n",
       "      <td>NaN</td>\n",
       "      <td>incendis1991</td>\n",
       "      <td>D:/Documents/Gencat/SPIF/cartografia_consulta/...</td>\n",
       "      <td>0</td>\n",
       "      <td>MULTIPOLYGON Z (((308575.56103 4564056.54935 0...</td>\n",
       "    </tr>\n",
       "    <tr>\n",
       "      <th>152</th>\n",
       "      <td>0</td>\n",
       "      <td>None</td>\n",
       "      <td>None</td>\n",
       "      <td>None</td>\n",
       "      <td>NaN</td>\n",
       "      <td>incendis1991</td>\n",
       "      <td>D:/Documents/Gencat/SPIF/cartografia_consulta/...</td>\n",
       "      <td>0</td>\n",
       "      <td>MULTIPOLYGON Z (((308365.56048 4564026.55090 0...</td>\n",
       "    </tr>\n",
       "    <tr>\n",
       "      <th>154</th>\n",
       "      <td>0</td>\n",
       "      <td>None</td>\n",
       "      <td>None</td>\n",
       "      <td>None</td>\n",
       "      <td>NaN</td>\n",
       "      <td>incendis1991</td>\n",
       "      <td>D:/Documents/Gencat/SPIF/cartografia_consulta/...</td>\n",
       "      <td>0</td>\n",
       "      <td>MULTIPOLYGON Z (((308185.55929 4563906.55208 0...</td>\n",
       "    </tr>\n",
       "    <tr>\n",
       "      <th>158</th>\n",
       "      <td>0</td>\n",
       "      <td>None</td>\n",
       "      <td>None</td>\n",
       "      <td>None</td>\n",
       "      <td>NaN</td>\n",
       "      <td>incendis1991</td>\n",
       "      <td>D:/Documents/Gencat/SPIF/cartografia_consulta/...</td>\n",
       "      <td>0</td>\n",
       "      <td>MULTIPOLYGON Z (((308155.55879 4563846.55222 0...</td>\n",
       "    </tr>\n",
       "    <tr>\n",
       "      <th>160</th>\n",
       "      <td>0</td>\n",
       "      <td>None</td>\n",
       "      <td>None</td>\n",
       "      <td>None</td>\n",
       "      <td>NaN</td>\n",
       "      <td>incendis1991</td>\n",
       "      <td>D:/Documents/Gencat/SPIF/cartografia_consulta/...</td>\n",
       "      <td>1</td>\n",
       "      <td>MULTIPOLYGON Z (((306595.55590 4563786.56400 0...</td>\n",
       "    </tr>\n",
       "    <tr>\n",
       "      <th>...</th>\n",
       "      <td>...</td>\n",
       "      <td>...</td>\n",
       "      <td>...</td>\n",
       "      <td>...</td>\n",
       "      <td>...</td>\n",
       "      <td>...</td>\n",
       "      <td>...</td>\n",
       "      <td>...</td>\n",
       "      <td>...</td>\n",
       "    </tr>\n",
       "    <tr>\n",
       "      <th>356</th>\n",
       "      <td>0</td>\n",
       "      <td>None</td>\n",
       "      <td>None</td>\n",
       "      <td>None</td>\n",
       "      <td>NaN</td>\n",
       "      <td>incendis1991</td>\n",
       "      <td>D:/Documents/Gencat/SPIF/cartografia_consulta/...</td>\n",
       "      <td>1</td>\n",
       "      <td>MULTIPOLYGON Z (((306715.53042 4560396.55776 0...</td>\n",
       "    </tr>\n",
       "    <tr>\n",
       "      <th>357</th>\n",
       "      <td>0</td>\n",
       "      <td>None</td>\n",
       "      <td>None</td>\n",
       "      <td>None</td>\n",
       "      <td>NaN</td>\n",
       "      <td>incendis1991</td>\n",
       "      <td>D:/Documents/Gencat/SPIF/cartografia_consulta/...</td>\n",
       "      <td>0</td>\n",
       "      <td>MULTIPOLYGON Z (((306565.52883 4560216.55862 0...</td>\n",
       "    </tr>\n",
       "    <tr>\n",
       "      <th>358</th>\n",
       "      <td>0</td>\n",
       "      <td>None</td>\n",
       "      <td>None</td>\n",
       "      <td>None</td>\n",
       "      <td>NaN</td>\n",
       "      <td>incendis1991</td>\n",
       "      <td>D:/Documents/Gencat/SPIF/cartografia_consulta/...</td>\n",
       "      <td>0</td>\n",
       "      <td>MULTIPOLYGON Z (((305455.52597 4560066.56685 0...</td>\n",
       "    </tr>\n",
       "    <tr>\n",
       "      <th>481</th>\n",
       "      <td>0</td>\n",
       "      <td>None</td>\n",
       "      <td>None</td>\n",
       "      <td>None</td>\n",
       "      <td>NaN</td>\n",
       "      <td>incendis1993</td>\n",
       "      <td>D:/Documents/Gencat/SPIF/cartografia_consulta/...</td>\n",
       "      <td>25</td>\n",
       "      <td>MULTIPOLYGON Z (((434055.97342 4592765.64179 0...</td>\n",
       "    </tr>\n",
       "    <tr>\n",
       "      <th>4430</th>\n",
       "      <td>0</td>\n",
       "      <td>None</td>\n",
       "      <td>None</td>\n",
       "      <td>None</td>\n",
       "      <td>NaN</td>\n",
       "      <td>incendis2011</td>\n",
       "      <td>D:/Documents/Gencat/SPIF/cartografia_consulta/...</td>\n",
       "      <td>7</td>\n",
       "      <td>MULTIPOLYGON Z (((279505.48400 4559831.76332 0...</td>\n",
       "    </tr>\n",
       "  </tbody>\n",
       "</table>\n",
       "<p>148 rows × 9 columns</p>\n",
       "</div>"
      ],
      "text/plain": [
       "     GRID_CODE CODI_FINAL MUNICIPI DATA_INCEN  OBJECTID         layer  \\\n",
       "150          0       None     None       None       NaN  incendis1991   \n",
       "152          0       None     None       None       NaN  incendis1991   \n",
       "154          0       None     None       None       NaN  incendis1991   \n",
       "158          0       None     None       None       NaN  incendis1991   \n",
       "160          0       None     None       None       NaN  incendis1991   \n",
       "...        ...        ...      ...        ...       ...           ...   \n",
       "356          0       None     None       None       NaN  incendis1991   \n",
       "357          0       None     None       None       NaN  incendis1991   \n",
       "358          0       None     None       None       NaN  incendis1991   \n",
       "481          0       None     None       None       NaN  incendis1993   \n",
       "4430         0       None     None       None       NaN  incendis2011   \n",
       "\n",
       "                                                   path  hectaries  \\\n",
       "150   D:/Documents/Gencat/SPIF/cartografia_consulta/...          0   \n",
       "152   D:/Documents/Gencat/SPIF/cartografia_consulta/...          0   \n",
       "154   D:/Documents/Gencat/SPIF/cartografia_consulta/...          0   \n",
       "158   D:/Documents/Gencat/SPIF/cartografia_consulta/...          0   \n",
       "160   D:/Documents/Gencat/SPIF/cartografia_consulta/...          1   \n",
       "...                                                 ...        ...   \n",
       "356   D:/Documents/Gencat/SPIF/cartografia_consulta/...          1   \n",
       "357   D:/Documents/Gencat/SPIF/cartografia_consulta/...          0   \n",
       "358   D:/Documents/Gencat/SPIF/cartografia_consulta/...          0   \n",
       "481   D:/Documents/Gencat/SPIF/cartografia_consulta/...         25   \n",
       "4430  D:/Documents/Gencat/SPIF/cartografia_consulta/...          7   \n",
       "\n",
       "                                               geometry  \n",
       "150   MULTIPOLYGON Z (((308575.56103 4564056.54935 0...  \n",
       "152   MULTIPOLYGON Z (((308365.56048 4564026.55090 0...  \n",
       "154   MULTIPOLYGON Z (((308185.55929 4563906.55208 0...  \n",
       "158   MULTIPOLYGON Z (((308155.55879 4563846.55222 0...  \n",
       "160   MULTIPOLYGON Z (((306595.55590 4563786.56400 0...  \n",
       "...                                                 ...  \n",
       "356   MULTIPOLYGON Z (((306715.53042 4560396.55776 0...  \n",
       "357   MULTIPOLYGON Z (((306565.52883 4560216.55862 0...  \n",
       "358   MULTIPOLYGON Z (((305455.52597 4560066.56685 0...  \n",
       "481   MULTIPOLYGON Z (((434055.97342 4592765.64179 0...  \n",
       "4430  MULTIPOLYGON Z (((279505.48400 4559831.76332 0...  \n",
       "\n",
       "[148 rows x 9 columns]"
      ]
     },
     "execution_count": 5,
     "metadata": {},
     "output_type": "execute_result"
    }
   ],
   "source": [
    "# Comprovació dels nuls en la data\n",
    "incendis_86_20[incendis_86_20[\"DATA_INCEN\"].isna()]"
   ]
  },
  {
   "cell_type": "code",
   "execution_count": 6,
   "id": "e66058c5",
   "metadata": {},
   "outputs": [],
   "source": [
    "incendis_86_20.dropna(subset=[\"DATA_INCEN\"], inplace=True)"
   ]
  },
  {
   "cell_type": "code",
   "execution_count": 7,
   "id": "2b160b82",
   "metadata": {},
   "outputs": [
    {
     "data": {
      "text/plain": [
       "0             15/03/10\n",
       "1             28/07/10\n",
       "2             05/04/10\n",
       "3             23/05/10\n",
       "4             28/07/10\n",
       "             ...      \n",
       "4619    16/07/2021\\r\\n\n",
       "4620        22/07/2021\n",
       "4621        24/07/2021\n",
       "4622        15/06/2021\n",
       "4623        27/06/2021\n",
       "Name: DATA_INCEN, Length: 3156, dtype: object"
      ]
     },
     "execution_count": 7,
     "metadata": {},
     "output_type": "execute_result"
    }
   ],
   "source": [
    "incendis_86_20[\"DATA_INCEN\"]"
   ]
  },
  {
   "cell_type": "markdown",
   "id": "6d048f6a",
   "metadata": {},
   "source": [
    "Hi han dates amb l'any en format de 2 xifres hi altres amb format de 4 xifres, a part d'algun format erroni."
   ]
  },
  {
   "cell_type": "code",
   "execution_count": 8,
   "id": "dbf893c2",
   "metadata": {},
   "outputs": [],
   "source": [
    "# Estandarització de formats\n",
    "incendis_86_20[\"DATA_INCEN\"] = incendis_86_20[\"DATA_INCEN\"].str.split('\\r').str[0]\n",
    "date1 = pd.to_datetime(incendis_86_20[\"DATA_INCEN\"], errors='coerce', format='%d/%m/%y')\n",
    "date2 = pd.to_datetime(incendis_86_20[\"DATA_INCEN\"], errors='coerce', format='%d/%m/%Y')\n",
    "incendis_86_20[\"date\"] = date1.fillna(date2)\n",
    "incendis_86_20.dropna(subset=[\"date\"], inplace=True)\n",
    "incendis_86_20[\"year\"] = incendis_86_20[\"date\"].dt.year"
   ]
  },
  {
   "cell_type": "code",
   "execution_count": 9,
   "id": "ae13c6aa",
   "metadata": {},
   "outputs": [],
   "source": [
    "# Exporto\n",
    "incendis_86_20.to_file('dades/incendis_86_20_clean.geojson', driver='GeoJSON')"
   ]
  },
  {
   "cell_type": "code",
   "execution_count": null,
   "id": "c045ae72",
   "metadata": {},
   "outputs": [],
   "source": []
  }
 ],
 "metadata": {
  "kernelspec": {
   "display_name": "Python 3 (ipykernel)",
   "language": "python",
   "name": "python3"
  },
  "language_info": {
   "codemirror_mode": {
    "name": "ipython",
    "version": 3
   },
   "file_extension": ".py",
   "mimetype": "text/x-python",
   "name": "python",
   "nbconvert_exporter": "python",
   "pygments_lexer": "ipython3",
   "version": "3.8.5"
  }
 },
 "nbformat": 4,
 "nbformat_minor": 5
}
