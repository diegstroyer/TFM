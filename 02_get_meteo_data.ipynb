{
 "cells": [
  {
   "cell_type": "code",
   "execution_count": 2,
   "id": "41f050e5",
   "metadata": {},
   "outputs": [],
   "source": [
    "import pandas as pd\n",
    "import geopandas as gpd\n",
    "import cdsapi\n",
    "import xarray as xr\n",
    "from urllib.request import urlopen\n",
    "import datetime\n",
    "import random"
   ]
  },
  {
   "cell_type": "code",
   "execution_count": 3,
   "id": "9595fe45",
   "metadata": {},
   "outputs": [],
   "source": [
    "c = cdsapi.Client()"
   ]
  },
  {
   "cell_type": "code",
   "execution_count": null,
   "id": "0097491c",
   "metadata": {},
   "outputs": [],
   "source": [
    "points_df = gpd.read_file(\"dades/points_terrain_stats.geojson\")\n",
    "points_df.set_crs(25831, allow_override=True, inplace=True)"
   ]
  },
  {
   "cell_type": "code",
   "execution_count": null,
   "id": "88112438",
   "metadata": {},
   "outputs": [],
   "source": [
    "# Generate random date times for non-fire points\n",
    "start = datetime.datetime(year=1986, month=1, day=1)\n",
    "end = datetime.datetime(year=2021, month=12, day=31)\n",
    "\n",
    "r_dates =  points_df[\"date\"] .isnull()\n",
    "dates_list = [start + datetime.timedelta(seconds=random.randint(0, int((end - start).total_seconds()))) for x in r_dates if x is True]\n",
    "points_df.loc[r_dates, \"date\"] = dates_list\n"
   ]
  },
  {
   "cell_type": "code",
   "execution_count": null,
   "id": "790e0edf",
   "metadata": {},
   "outputs": [],
   "source": [
    "# Get meteo data\n",
    "dataset = 'reanalysis-era5-pressure-levels'\n",
    "download_flag = False\n",
    "\n",
    "points_df.to_crs(4326, inplace=True)\n",
    "\n",
    "for r in points_df.iterrows():\n",
    "    print(r[0])\n",
    "    \n",
    "    params = {\n",
    "         'format': 'netcdf',\n",
    "         'product_type': 'reanalysis',\n",
    "         'variable': ['temperature', 'u_component_of_wind', 'v_component_of_wind', 'specific_humidity', 'relative_humidity'],\n",
    "         'pressure_level':'1000',\n",
    "         'year':str(r[1][\"date\"].year),\n",
    "         'month':str(r[1][\"date\"].month),\n",
    "         'day': str(r[1][\"date\"].day),\n",
    "         'time': [str(x) for x in range(0,24)],\n",
    "         'grid': [0.25, 0.25],\n",
    "         'area': [r[1][\"geometry\"].y, r[1][\"geometry\"].x, r[1][\"geometry\"].y, r[1][\"geometry\"].x],\n",
    "         }\n",
    "     \n",
    "    # Download and load into memory    \n",
    "    fl = c.retrieve(dataset, params)\n",
    "    if download_flag:\n",
    "         fl.download(\"./output.nc\")\n",
    "         \n",
    "    with urlopen(fl.location) as f:\n",
    "         ds = xr.open_dataset(f.read())         \n",
    "    df = ds.to_dataframe()\n",
    "    # Write values of interestintopoints datafrafe\n",
    "    points_df.loc[r[0], [\"t_max\", \"u\", \"v\", 'specific_humidity', 'relative_humidity']] = df['t'].max(), df['u'].mean(), df['v'].mean(), df['q'].min(), df['r'].min()"
   ]
  },
  {
   "cell_type": "code",
   "execution_count": null,
   "id": "dbd5ccb5",
   "metadata": {},
   "outputs": [],
   "source": [
    "points_df.to_csv(\"points_data.csv\", index=False)"
   ]
  },
  {
   "cell_type": "code",
   "execution_count": null,
   "id": "046cc4e5",
   "metadata": {},
   "outputs": [],
   "source": []
  }
 ],
 "metadata": {
  "kernelspec": {
   "display_name": "Python 3 (ipykernel)",
   "language": "python",
   "name": "python3"
  },
  "language_info": {
   "codemirror_mode": {
    "name": "ipython",
    "version": 3
   },
   "file_extension": ".py",
   "mimetype": "text/x-python",
   "name": "python",
   "nbconvert_exporter": "python",
   "pygments_lexer": "ipython3",
   "version": "3.8.5"
  }
 },
 "nbformat": 4,
 "nbformat_minor": 5
}
