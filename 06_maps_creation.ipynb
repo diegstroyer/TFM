{
 "cells": [
  {
   "cell_type": "code",
   "execution_count": null,
   "id": "0fe1bc54",
   "metadata": {},
   "outputs": [],
   "source": [
    "import numpy as np\n",
    "import pandas as pd\n",
    "from tensorflow import keras\n",
    "from pyrsgis import raster"
   ]
  },
  {
   "cell_type": "code",
   "execution_count": null,
   "id": "50ea09ba",
   "metadata": {},
   "outputs": [],
   "source": [
    "builtup = 'dades/r_20_09_2017.tif'\n",
    "# Import pre-trained model\n",
    "nn = keras.models.load_model(\"dades/nn_fire_risk.h5\")\n",
    "# Import means and deviations from training dataset to standarize\n",
    "mean = pd.read_csv(\"data/means.csv\", index_col=0, header=0, squeeze=True)\n",
    "std = pd.read_csv(\"data/stds.csv\", index_col=0, header=0, squeeze=True)"
   ]
  },
  {
   "cell_type": "code",
   "execution_count": null,
   "id": "8079a58d",
   "metadata": {},
   "outputs": [],
   "source": [
    "# Read raster as array\n",
    "ds, features = raster.read(builtup, bands='all')\n",
    "features = features.transpose(1,2,0).reshape((features.shape[1]*features.shape[2]), features.shape[0])"
   ]
  },
  {
   "cell_type": "code",
   "execution_count": null,
   "id": "fe39c0b2",
   "metadata": {},
   "outputs": [],
   "source": [
    "# Import into pandas DataFrame\n",
    "df = pd.DataFrame(features)"
   ]
  },
  {
   "cell_type": "code",
   "execution_count": null,
   "id": "effa1757",
   "metadata": {},
   "outputs": [],
   "source": [
    "# Select quantitatives variables\n",
    "quant_var = df.iloc[:, df.columns != 8]"
   ]
  },
  {
   "cell_type": "code",
   "execution_count": null,
   "id": "72c6c531",
   "metadata": {},
   "outputs": [],
   "source": [
    "# Normalize\n",
    "normalized_df = (quant_var-mean.values)/std.values\n",
    "# Add soil use binnarized\n",
    "normalized_df = normalized_df.join(pd.get_dummies(df[8].astype(\"category\")), rsuffix=\"dummy\")"
   ]
  },
  {
   "cell_type": "code",
   "execution_count": null,
   "id": "fc4642d3",
   "metadata": {},
   "outputs": [],
   "source": [
    "# Predict new data\n",
    "predicted = nn.predict(normalized_df)"
   ]
  },
  {
   "cell_type": "code",
   "execution_count": null,
   "id": "ef14ea2b",
   "metadata": {},
   "outputs": [],
   "source": [
    "# Export probability raster    \n",
    "prediction = np.reshape(list(predicted[:,1]), (ds.RasterYSize, ds.RasterXSize))\n",
    "outFile = 'dades/prediction_20_09_2017.tif'\n",
    "raster.export(prediction, ds, filename=outFile, dtype='float')"
   ]
  }
 ],
 "metadata": {
  "kernelspec": {
   "display_name": "Python 3 (ipykernel)",
   "language": "python",
   "name": "python3"
  },
  "language_info": {
   "codemirror_mode": {
    "name": "ipython",
    "version": 3
   },
   "file_extension": ".py",
   "mimetype": "text/x-python",
   "name": "python",
   "nbconvert_exporter": "python",
   "pygments_lexer": "ipython3",
   "version": "3.9.12"
  }
 },
 "nbformat": 4,
 "nbformat_minor": 5
}
