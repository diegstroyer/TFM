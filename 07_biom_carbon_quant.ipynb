{
 "cells": [
  {
   "cell_type": "code",
   "execution_count": null,
   "id": "c3008966",
   "metadata": {},
   "outputs": [],
   "source": [
    "import pandas as pd\n",
    "import numpy as np"
   ]
  },
  {
   "cell_type": "markdown",
   "id": "f5fa5038",
   "metadata": {},
   "source": [
    "# Incendi Baldomà"
   ]
  },
  {
   "cell_type": "code",
   "execution_count": null,
   "id": "98f894b4",
   "metadata": {},
   "outputs": [],
   "source": [
    "zonal_stats_df = pd.read_csv(\"dades/resultats_baldoma/stats_arbrat.csv\")"
   ]
  },
  {
   "cell_type": "markdown",
   "id": "47d79754",
   "metadata": {},
   "source": [
    "### Coníferes"
   ]
  },
  {
   "cell_type": "code",
   "execution_count": null,
   "id": "566c135f",
   "metadata": {},
   "outputs": [],
   "source": [
    "cnf = zonal_stats_df[zonal_stats_df[\"coberta_sol\"]== 2]\n",
    "# Diccionari amb el mapeix severitat - Factor de biomassa consumida \n",
    "dict_sv_bm_con = {1:0.25, 2:0.47, 3:0.56, 4:0.65}\n",
    "# Biomassa Consumida (factor)\n",
    "cnf[\"biomassa_cons\"] = cnf[\"Severitat\"].map(dict_sv_bm_con)\n",
    "# Biomassa preexistent\n",
    "cnf[\"biomassa_pre\"] = cnf[\"bm_mean\"] * cnf[\"area\"]\n",
    "# Biomassa consumida (tonelades)\n",
    "cnf[\"biomassa_con_tot\"] = cnf[\"biomassa_pre\"] * cnf[\"biomassa_cons\"]\n",
    "# CO2 allibertat\n",
    "cnf[\"CO2\"] = cnf[\"biomassa_con_tot\"] * 1.377\n",
    "# CH4 allibertat\n",
    "cnf[\"CH4\"] = cnf[\"biomassa_con_tot\"] * 0.0014\n",
    "# CO2 equivalent corresponent al CH4\n",
    "cnf[\"CO2eq_CH4\"] = cnf[\"CH4\"] * 21\n",
    "# N2O allibertat\n",
    "cnf[\"N2O\"] = cnf[\"biomassa_con_tot\"] * 0.00012\n",
    "# CO2 equivalent corresponent al N2O\n",
    "cnf[\"CO2eq_N2O\"] = cnf[\"N2O\"] * 298\n",
    "#b CO2 equivalent total \n",
    "cnf[\"CO2eq_total\"] = cnf[\"CO2\"] + cnf[\"CO2eq_CH4\"] + cnf[\"CO2eq_N2O\"]\n",
    "# Exporta\n",
    "cnf.to_excel(\"dades/resultats_baldoma/con_baldoma.xlsx\")"
   ]
  },
  {
   "cell_type": "markdown",
   "id": "e4af6291",
   "metadata": {},
   "source": [
    "### Frondoses"
   ]
  },
  {
   "cell_type": "code",
   "execution_count": null,
   "id": "bcf606a5",
   "metadata": {},
   "outputs": [],
   "source": [
    "frnd = zonal_stats_df[zonal_stats_df[\"coberta_sol\"].isin([3, 4, 7])]\n",
    "# Diccionari amb el mapeix severitat - Factor de biomassa consumida \n",
    "dict_sv_bm_con = {1:0.25, 2:0.4, 3:0.48, 4:0.56}\n",
    "# Biomassa Consumida (factor)\n",
    "frnd[\"biomassa_cons\"] = frnd[\"Severitat\"].map(dict_sv_bm_con)\n",
    "# Biomassa preexistent\n",
    "frnd[\"biomassa_pre\"] = frnd[\"bm_mean\"] * frnd[\"area\"]\n",
    "# Biomassa consumida (tonelades)\n",
    "frnd[\"biomassa_con_tot\"] = frnd[\"biomassa_pre\"] * frnd[\"biomassa_cons\"]\n",
    "frnd = frnd.groupby([\"Severitat\"])[[\"area\", \"biomassa_pre\", \"biomassa_con_tot\"]].sum()\n",
    "# CO2 allibertat\n",
    "frnd[\"CO2\"] = frnd[\"biomassa_con_tot\"] * 1.377\n",
    "# CH4 allibertat\n",
    "frnd[\"CH4\"] = frnd[\"biomassa_con_tot\"] * 0.0014\n",
    "# CO2 equivalent corresponent al CH4\n",
    "frnd[\"CO2eq_CH4\"] = frnd[\"CH4\"] * 21\n",
    "# N2O allibertat\n",
    "frnd[\"N2O\"] = frnd[\"biomassa_con_tot\"] * 0.00012\n",
    "# CO2 equivalent corresponent al N2O\n",
    "frnd[\"CO2eq_N2O\"] = frnd[\"N2O\"] * 298\n",
    "#b CO2 equivalent total \n",
    "frnd[\"CO2eq_total\"] = frnd[\"CO2\"] + frnd[\"CO2eq_CH4\"] + frnd[\"CO2eq_N2O\"]\n",
    "# Exporta\n",
    "frnd.to_excel(\"dades/resultats_baldoma/frnd_baldoma.xlsx\")"
   ]
  },
  {
   "cell_type": "markdown",
   "id": "2af74b4e",
   "metadata": {},
   "source": [
    "### Estrat arbustiu"
   ]
  },
  {
   "cell_type": "code",
   "execution_count": null,
   "id": "62255a29",
   "metadata": {},
   "outputs": [],
   "source": [
    "arbustiu = pd.read_csv(\"dades/resultats_baldoma/stats_arbustiu.csv\")\n",
    "\n",
    "# Diccionari amb el mapeix severitat - Factor de biomassa consumida \n",
    "dict_sv_bm_arb = {1:0.71, 2:0.84, 3:0.89, 4:0.95}\n",
    "# Biomassa garrics\n",
    "arbustiu.loc[arbustiu[\"n_FORmat\"]==160, \"biomassa\"] = np.e**(-2.892 + 1.505 * np.log(arbustiu[\"HMMAT\"]) + 0.462 * np.log(arbustiu[\"FCCMAT\"]))\n",
    "# Biomassa boixedes, Tanques, orles, bardes, salcedes, galeries arbustives, etc\n",
    "arbustiu.loc[arbustiu[\"n_FORmat\"].isin([120, 110, 111]), \"biomassa\"] = np.e**(0.949 * np.log(arbustiu[\"FCCMAT\"]))\n",
    "# Biomassa Consumida (factor)\n",
    "arbustiu[\"biomassa_cons\"] = arbustiu[\"Severitat\"].map(dict_sv_bm_arb)\n",
    "# Biomassa preexistent\n",
    "arbustiu[\"biomassa_pre\"] = arbustiu[\"biomassa\"] * arbustiu[\"Superficie\"]\n",
    "# Biomassa consumida (tonelades)\n",
    "arbustiu[\"biomassa_con_tot\"] = arbustiu[\"biomassa_pre\"] * arbustiu[\"biomassa_cons\"]\n",
    "arbustiu = arbustiu.groupby([\"Severitat\"])[[\"Superficie\", \"biomassa_pre\", \"biomassa_con_tot\"]].sum()\n",
    "# CO2 allibertat\n",
    "arbustiu[\"CO2\"] = arbustiu[\"biomassa_con_tot\"] * 1.377\n",
    "# CH4 allibertat\n",
    "arbustiu[\"CH4\"] = arbustiu[\"biomassa_con_tot\"] * 0.0014\n",
    "# CO2 equivalent corresponent al CH4\n",
    "arbustiu[\"CO2eq_CH4\"] = arbustiu[\"CH4\"] * 21\n",
    "# N2O allibertat\n",
    "arbustiu[\"N2O\"] = arbustiu[\"biomassa_con_tot\"] * 0.00012\n",
    "# CO2 equivalent corresponent al N2O\n",
    "arbustiu[\"CO2eq_N2O\"] = arbustiu[\"N2O\"] * 298\n",
    "#b CO2 equivalent total \n",
    "arbustiu[\"CO2eq_total\"] = arbustiu[\"CO2\"] + arbustiu[\"CO2eq_CH4\"] + arbustiu[\"CO2eq_N2O\"]\n",
    "# Exporta\n",
    "arbustiu.to_excel(\"dades/resultats_baldoma/arbustiu_baldoma.xlsx\")"
   ]
  },
  {
   "cell_type": "markdown",
   "id": "30cce6e0",
   "metadata": {},
   "source": [
    "# Incendi El Pont de Vilomara"
   ]
  },
  {
   "cell_type": "code",
   "execution_count": null,
   "id": "a2f02c7d",
   "metadata": {},
   "outputs": [],
   "source": [
    "zonal_stats_df = pd.read_csv(\"dades/resultats_pont_vilomara/stats_arbrat.csv\")\n",
    "zonal_stats_df.sort_values(\"Severitat\", inplace=True)"
   ]
  },
  {
   "cell_type": "markdown",
   "id": "eb308e42",
   "metadata": {},
   "source": [
    "### Coníferes"
   ]
  },
  {
   "cell_type": "code",
   "execution_count": null,
   "id": "c4d7d31a",
   "metadata": {},
   "outputs": [],
   "source": [
    "cnf = zonal_stats_df[zonal_stats_df[\"tipus\"]== 2]\n",
    "# Diccionari amb el mapeix severitat - Factor de biomassa consumida \n",
    "dict_sv_bm_con = {1:0.25, 2:0.47, 3:0.56, 4:0.65}\n",
    "# Biomassa Consumida (factor)\n",
    "cnf[\"biomassa_cons\"] = cnf[\"Severitat\"].map(dict_sv_bm_con)\n",
    "# Biomassa preexistent\n",
    "cnf[\"biomassa_pre\"] = cnf[\"bm_mean\"] * cnf[\"area\"]\n",
    "# Biomassa consumida (tonelades)\n",
    "cnf[\"biomassa_con_tot\"] = cnf[\"biomassa_pre\"] * cnf[\"biomassa_cons\"]\n",
    "# CO2 allibertat\n",
    "cnf[\"CO2\"] = cnf[\"biomassa_con_tot\"] * 1.377\n",
    "# CH4 allibertat\n",
    "cnf[\"CH4\"] = cnf[\"biomassa_con_tot\"] * 0.0014\n",
    "# CO2 equivalent corresponent al CH4\n",
    "cnf[\"CO2eq_CH4\"] = cnf[\"CH4\"] * 21\n",
    "# N2O allibertat\n",
    "cnf[\"N2O\"] = cnf[\"biomassa_con_tot\"] * 0.00012\n",
    "# CO2 equivalent corresponent al N2O\n",
    "cnf[\"CO2eq_N2O\"] = cnf[\"N2O\"] * 298\n",
    "# CO2 equivalent total \n",
    "cnf[\"CO2eq_total\"] = cnf[\"CO2\"] + cnf[\"CO2eq_CH4\"] + cnf[\"CO2eq_N2O\"]\n",
    "# Exporta\n",
    "cnf.to_excel(\"dades/resultats_pont_vilomara/con_pont_vilomara.xlsx\")"
   ]
  },
  {
   "cell_type": "markdown",
   "id": "33e03fb8",
   "metadata": {},
   "source": [
    "### Frondoses"
   ]
  },
  {
   "cell_type": "code",
   "execution_count": null,
   "id": "c24cb850",
   "metadata": {},
   "outputs": [],
   "source": [
    "frnd = zonal_stats_df[zonal_stats_df[\"tipus\"].isin([3, 4, 7])]\n",
    "# Diccionari amb el mapeix severitat - Factor de biomassa consumida \n",
    "dict_sv_bm_con = {1:0.25, 2:0.4, 3:0.48, 4:0.56}\n",
    "# Biomassa Consumida (factor)\n",
    "frnd[\"biomassa_cons\"] = frnd[\"Severitat\"].map(dict_sv_bm_con)\n",
    "# Biomassa preexistent\n",
    "frnd[\"biomassa_pre\"] = frnd[\"bm_mean\"] * frnd[\"area\"]\n",
    "# Biomassa consumida (tonelades)\n",
    "frnd[\"biomassa_con_tot\"] = frnd[\"biomassa_pre\"] * frnd[\"biomassa_cons\"]\n",
    "frnd = frnd.groupby([\"Severitat\"])[[\"area\", \"biomassa_pre\", \"biomassa_con_tot\"]].sum()\n",
    "# CO2 allibertat\n",
    "frnd[\"CO2\"] = frnd[\"biomassa_con_tot\"] * 1.377\n",
    "# CH4 allibertat\n",
    "frnd[\"CH4\"] = frnd[\"biomassa_con_tot\"] * 0.0014\n",
    "# CO2 equivalent corresponent al CH4\n",
    "frnd[\"CO2eq_CH4\"] = frnd[\"CH4\"] * 21\n",
    "# N2O allibertat\n",
    "frnd[\"N2O\"] = frnd[\"biomassa_con_tot\"] * 0.00012\n",
    "# CO2 equivalent corresponent al N2O\n",
    "frnd[\"CO2eq_N2O\"] = frnd[\"N2O\"] * 298\n",
    "# CO2 equivalent total \n",
    "frnd[\"CO2eq_total\"] = frnd[\"CO2\"] + frnd[\"CO2eq_CH4\"] + frnd[\"CO2eq_N2O\"]\n",
    "# Exporta\n",
    "frnd.to_excel(\"resultats_pont_vilomara/frnd_pont_vilomara.xlsx\")"
   ]
  },
  {
   "cell_type": "markdown",
   "id": "c01bc4d0",
   "metadata": {},
   "source": [
    "### Estrat arbustiu"
   ]
  },
  {
   "cell_type": "code",
   "execution_count": null,
   "id": "fafcc411",
   "metadata": {},
   "outputs": [],
   "source": [
    "arbustiu = pd.read_csv(\"resultats_pont_vilomara/stats_arbustiu.csv\")\n",
    "# Diccionari amb el mapeix severitat - Factor de biomassa consumida \n",
    "dict_sv_bm_arb = {1:0.71, 2:0.84, 3:0.89, 4:0.95}\n",
    "# Biomassa garrics\n",
    "arbustiu.loc[arbustiu[\"n_FORmat\"]==160, \"biomassa\"] = np.e**(-2.892 + 1.505 * np.log(arbustiu[\"HMMAT\"]) + 0.462 * np.log(arbustiu[\"FCCMAT\"]))\n",
    "# Biomassa boixedes, Tanques, orles, bardes, salcedes, galeries arbustives, etc\n",
    "arbustiu.loc[arbustiu[\"n_FORmat\"].isin([120, 110, 113]), \"biomassa\"] = np.e**(0.949 * np.log(arbustiu[\"FCCMAT\"]))\n",
    "# Biomassa timonedes\n",
    "arbustiu.loc[arbustiu[\"n_FORmat\"]==250, \"biomassa\"] =  np.e**(-1.887 + 0.643 * np.log(arbustiu[\"HMMAT\"]) + 0.661 * np.log(arbustiu[\"FCCMAT\"]))\n",
    "# Biomassa escobillars\n",
    "arbustiu.loc[arbustiu[\"n_FORmat\"]==255, \"biomassa\"] =  np.e**(-1.833 + 0.965 * np.log(arbustiu[\"HMMAT\"]) + 0.453 * np.log(arbustiu[\"FCCMAT\"]))\n",
    "# Biomassa Consumida (factor)\n",
    "arbustiu[\"biomassa_cons\"] = arbustiu[\"Severitat\"].map(dict_sv_bm_arb)\n",
    "# Biomassa preexistent\n",
    "arbustiu[\"biomassa_pre\"] = arbustiu[\"biomassa\"] * arbustiu[\"superficie\"]\n",
    "# Biomassa consumida (tonelades)\n",
    "arbustiu[\"biomassa_con_tot\"] = arbustiu[\"biomassa_pre\"] * arbustiu[\"biomassa_cons\"]\n",
    "arbustiu = arbustiu.groupby([\"Severitat\"])[[\"superficie\", \"biomassa_pre\", \"biomassa_con_tot\"]].sum()\n",
    "# CO2 allibertat\n",
    "arbustiu[\"CO2\"] = arbustiu[\"biomassa_con_tot\"] * 1.377\n",
    "# CH4 allibertat\n",
    "arbustiu[\"CH4\"] = arbustiu[\"biomassa_con_tot\"] * 0.0014\n",
    "# CO2 equivalent corresponent al CH4\n",
    "arbustiu[\"CO2eq_CH4\"] = arbustiu[\"CH4\"] * 21\n",
    "# N2O allibertat\n",
    "arbustiu[\"N2O\"] = arbustiu[\"biomassa_con_tot\"] * 0.00012\n",
    "# CO2 equivalent corresponent al N2O\n",
    "arbustiu[\"CO2eq_N2O\"] = arbustiu[\"N2O\"] * 298\n",
    "#b CO2 equivalent total \n",
    "arbustiu[\"CO2eq_total\"] = arbustiu[\"CO2\"] + arbustiu[\"CO2eq_CH4\"] + arbustiu[\"CO2eq_N2O\"]\n",
    "# Exporta\n",
    "arbustiu.to_excel(\"resultats_pont_vilomara/arbustiu_pont_vilomara.xlsx\")"
   ]
  },
  {
   "cell_type": "code",
   "execution_count": null,
   "id": "85308c82",
   "metadata": {},
   "outputs": [],
   "source": []
  }
 ],
 "metadata": {
  "kernelspec": {
   "display_name": "Python 3 (ipykernel)",
   "language": "python",
   "name": "python3"
  },
  "language_info": {
   "codemirror_mode": {
    "name": "ipython",
    "version": 3
   },
   "file_extension": ".py",
   "mimetype": "text/x-python",
   "name": "python",
   "nbconvert_exporter": "python",
   "pygments_lexer": "ipython3",
   "version": "3.9.12"
  }
 },
 "nbformat": 4,
 "nbformat_minor": 5
}
