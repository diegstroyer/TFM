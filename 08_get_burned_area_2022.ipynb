{
 "cells": [
  {
   "cell_type": "code",
   "execution_count": null,
   "id": "e5858d04",
   "metadata": {},
   "outputs": [],
   "source": [
    "import burned_area_utils\n",
    "from sentinelhub import SHConfig"
   ]
  },
  {
   "cell_type": "code",
   "execution_count": null,
   "id": "55112da6",
   "metadata": {},
   "outputs": [],
   "source": [
    "config = SHConfig()\n",
    "\n",
    "# Set sentinel bands\n",
    "band1 = 4\n",
    "band2 = 5"
   ]
  },
  {
   "cell_type": "markdown",
   "id": "ddc0ae4d",
   "metadata": {},
   "source": [
    "# Incendi Baldomà"
   ]
  },
  {
   "cell_type": "code",
   "execution_count": null,
   "id": "583b6c72",
   "metadata": {},
   "outputs": [],
   "source": [
    "# Define fire area\n",
    "bbox = [0.94476,41.89973,1.02825,41.99827]\n",
    "\n",
    "fire_start_day = \"2022-06-15\"\n",
    "fire_end_day = \"2022-06-19\""
   ]
  },
  {
   "cell_type": "code",
   "execution_count": null,
   "id": "1d83dc41",
   "metadata": {},
   "outputs": [],
   "source": [
    "# Download tiffs\n",
    "pre_folder, post_folder = burned_area_utils.get_tiffs(\n",
    "    bbox, fire_start_day, fire_end_day)"
   ]
  },
  {
   "cell_type": "code",
   "execution_count": null,
   "id": "d98ffee1",
   "metadata": {},
   "outputs": [],
   "source": [
    "# Extract prefire bands\n",
    "prefire_b8A, _crs, geoTransform, tarjetprj = burned_area_utils.read_band_image(\n",
    "    band1, pre_folder)\n",
    "prefire_b12, _crs, geoTransform, tarjetprj = burned_area_utils.read_band_image(\n",
    "    band2, pre_folder"
   ]
  },
  {
   "cell_type": "code",
   "execution_count": null,
   "id": "da3f2f33",
   "metadata": {},
   "outputs": [],
   "source": [
    "# Calculate of pre-fire NBR\n",
    "prefire_nbr = burned_area_utils.nbr(\n",
    "    prefire_b8A.astype(int), prefire_b12.astype(int))"
   ]
  },
  {
   "cell_type": "code",
   "execution_count": null,
   "id": "fc80b62f",
   "metadata": {},
   "outputs": [],
   "source": [
    "# Extract postfire bands\n",
    "postfire_b8A, _crs, geoTranform, tarjetprj = burned_area_utils.read_band_image(\n",
    "    band1, post_folder)\n",
    "postfire_b12, _crs, geoTranform, tarjetprj = burned_area_utils.read_band_image(\n",
    "    band2, post_folder)"
   ]
  },
  {
   "cell_type": "code",
   "execution_count": null,
   "id": "305d68ca",
   "metadata": {},
   "outputs": [],
   "source": [
    "# Calculate pre-fire NBR\n",
    "postfire_nbr = burned_area_utils.nbr(\n",
    "    postfire_b8A.astype(int), postfire_b12.astype(int))"
   ]
  },
  {
   "cell_type": "code",
   "execution_count": null,
   "id": "c12464ad",
   "metadata": {},
   "outputs": [],
   "source": [
    "# Calculate NBR diference\n",
    "dNBR = burned_area_utils.dnbr(prefire_nbr, postfire_nbr)"
   ]
  },
  {
   "cell_type": "code",
   "execution_count": null,
   "id": "d26d5d16",
   "metadata": {},
   "outputs": [],
   "source": [
    "# Export result\n",
    "burned_area_utils.array2raster(dNBR, \n",
    "            geoTransform, _crs, \"../resultats_baldoma/dNBR.tiff\")"
   ]
  },
  {
   "cell_type": "markdown",
   "id": "77feb906",
   "metadata": {},
   "source": [
    "# Incendi El Pont de vilomara"
   ]
  },
  {
   "cell_type": "code",
   "execution_count": null,
   "id": "18587ef2",
   "metadata": {},
   "outputs": [],
   "source": [
    "# Define fire area\n",
    "bbox = [1.868, 41.68, 1.921, 41.755]\n",
    "\n",
    "fire_start_day = \"2022-07-16\"\n",
    "fire_end_day = \"2022-07-19\""
   ]
  },
  {
   "cell_type": "code",
   "execution_count": null,
   "id": "e4659f78",
   "metadata": {},
   "outputs": [],
   "source": [
    "# Download tiffs\n",
    "pre_folder, post_folder = burned_area_utils.get_tiffs(\n",
    "    bbox, fire_start_day, fire_end_day)"
   ]
  },
  {
   "cell_type": "code",
   "execution_count": null,
   "id": "a6c014d2",
   "metadata": {},
   "outputs": [],
   "source": [
    "# Extract prefire bands\n",
    "prefire_b8A, _crs, geoTransform, tarjetprj = burned_area_utils.read_band_image(\n",
    "    band1, pre_folder)\n",
    "prefire_b12, _crs, geoTransform, tarjetprj = burned_area_utils.read_band_image(\n",
    "    band2, pre_folder)"
   ]
  },
  {
   "cell_type": "code",
   "execution_count": null,
   "id": "ef4f6dea",
   "metadata": {},
   "outputs": [],
   "source": [
    "# Calculate of pre-fire NBR\n",
    "prefire_nbr = burned_area_utils.nbr(\n",
    "    prefire_b8A.astype(int), prefire_b12.astype(int))"
   ]
  },
  {
   "cell_type": "code",
   "execution_count": null,
   "id": "042046af",
   "metadata": {},
   "outputs": [],
   "source": [
    "# Extract postfire bands\n",
    "postfire_b8A, _crs, geoTranform, tarjetprj = burned_area_utils.read_band_image(\n",
    "    band1, post_folder)\n",
    "postfire_b12, _crs, geoTranform, tarjetprj = burned_area_utils.read_band_image(\n",
    "    band2, post_folder)"
   ]
  },
  {
   "cell_type": "code",
   "execution_count": null,
   "id": "7958b6cf",
   "metadata": {},
   "outputs": [],
   "source": [
    "# Calculate pre-fire NBR\n",
    "postfire_nbr = burned_area_utils.nbr(\n",
    "    postfire_b8A.astype(int), postfire_b12.astype(int))"
   ]
  },
  {
   "cell_type": "code",
   "execution_count": null,
   "id": "9c1a148b",
   "metadata": {},
   "outputs": [],
   "source": [
    "# Calculate NBR diference\n",
    "dNBR = burned_area_utils.dnbr(prefire_nbr, postfire_nbr)"
   ]
  },
  {
   "cell_type": "code",
   "execution_count": null,
   "id": "cf3e0494",
   "metadata": {},
   "outputs": [],
   "source": [
    "# Export result\n",
    "burned_area_utils.array2raster(dNBR, \n",
    "                    geoTransform, _crs, \"../resultats_pont_vilomara/dNBR.tiff\")"
   ]
  },
  {
   "cell_type": "code",
   "execution_count": null,
   "id": "4579b50b",
   "metadata": {},
   "outputs": [],
   "source": [
    "# Transform to polygon\n",
    "burned_area_utils.poligonize(\"../resultats_pont_vilomara/dNBR.tiff\", \n",
    "                        \"../resultats_pont_vilomara/area_cremada.geojson\")"
   ]
  }
 ],
 "metadata": {
  "kernelspec": {
   "display_name": "Python 3 (ipykernel)",
   "language": "python",
   "name": "python3"
  },
  "language_info": {
   "codemirror_mode": {
    "name": "ipython",
    "version": 3
   },
   "file_extension": ".py",
   "mimetype": "text/x-python",
   "name": "python",
   "nbconvert_exporter": "python",
   "pygments_lexer": "ipython3",
   "version": "3.9.12"
  }
 },
 "nbformat": 4,
 "nbformat_minor": 5
}
